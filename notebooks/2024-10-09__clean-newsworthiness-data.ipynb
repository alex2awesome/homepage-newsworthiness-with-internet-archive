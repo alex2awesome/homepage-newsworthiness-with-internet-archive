{
 "cells": [
  {
   "cell_type": "code",
   "execution_count": 1,
   "id": "4542f5a2-d16c-48f3-90fa-652a76c21923",
   "metadata": {},
   "outputs": [],
   "source": [
    "import pandas as pd "
   ]
  },
  {
   "cell_type": "code",
   "execution_count": 15,
   "id": "a40eca3d-7e1d-438f-9f0d-e5567c6d4db2",
   "metadata": {},
   "outputs": [],
   "source": [
    "import re\n",
    "import ast\n",
    "import pyperclip\n",
    "import pprint\n",
    "import os\n",
    "from together import Together\n",
    "\n",
    "client = Together(api_key=open('/Users/spangher/.togetherai-usc-key.txt').read().strip())\n",
    "def query_together(prompt, client=client):\n",
    "    response = client.chat.completions.create(\n",
    "        model=\"meta-llama/Meta-Llama-3.1-70B-Instruct-Turbo\",\n",
    "        messages=[{\n",
    "                    \"role\": \"system\",\n",
    "                    \"content\": \"You are an experienced journalist.\"\n",
    "                },\n",
    "                {\n",
    "                    \"role\": \"user\",\n",
    "                    \"content\": prompt\n",
    "                }],\n",
    "        max_tokens=1048,\n",
    "        temperature=0.1,\n",
    "        top_p=0.7,\n",
    "        top_k=50,\n",
    "        repetition_penalty=1,\n",
    "        stop=[\"<|eot_id|>\",\"<|eom_id|>\"],\n",
    "    )\n",
    "    return response.choices[0].message.content"
   ]
  },
  {
   "cell_type": "code",
   "execution_count": 5,
   "id": "44594b1d-6b02-4ab4-98e6-695afc1df59a",
   "metadata": {},
   "outputs": [
    {
     "name": "stdout",
     "output_type": "stream",
     "text": [
      "test_file.jsonl   train_file.jsonl\n"
     ]
    }
   ],
   "source": [
    "ls ../data/newsworthiness-training-data/"
   ]
  },
  {
   "cell_type": "code",
   "execution_count": 12,
   "id": "b8277c6f-5821-468b-a140-bf14ab00dd1c",
   "metadata": {},
   "outputs": [],
   "source": [
    "full_data_df = pd.concat([\n",
    "    pd.read_json('../data/newsworthiness-training-data/train_file.jsonl', lines=True).assign(split='train'),\n",
    "    pd.read_json('../data/newsworthiness-training-data/test_file.jsonl', lines=True).assign(split='test')\n",
    "])"
   ]
  },
  {
   "cell_type": "code",
   "execution_count": 31,
   "id": "dc1f5224-b71f-4767-a332-29e53cb90850",
   "metadata": {},
   "outputs": [
    {
     "data": {
      "text/plain": [
       "0                              \\n  Skip to main content \\n \n",
       "1          \\n  \\n  \\n \\n  \\n \\n \\n \\n  \\n  \\n \\n \\n \\n  ...\n",
       "2          \\n \\n       \\n    May 1, 2023 - 9:31 AM    \\n...\n",
       "3          \\n \\n       \\n    May 1, 2023 - 8:27 AM    \\n...\n",
       "4          \\n \\n       \\n    May 1, 2023 - 8:02 AM    \\n...\n",
       "                                ...                        \n",
       "215210     \\n  \\n \\n  \\n  \\n  \\n  \\n  \\n  \\n  \\n  \\n  \\n...\n",
       "215211     \\n  \\n \\n  \\n  \\n  \\n  \\n  \\n  \\n  \\n  \\n  \\n...\n",
       "215212     \\n  \\n  \\n  \\n  \\n BENJAMIN GERVIN  \\n  \\n On...\n",
       "215213     \\n  \\n  \\n  \\n  \\n  \\n  \\n  \\n \\n  \\n  \\n  \\n...\n",
       "215214     \\n  \\n  \\n   \\n  \\n  YALE DAILY NEWS PUBLISHI...\n",
       "Name: all_text, Length: 1073727, dtype: object"
      ]
     },
     "execution_count": 31,
     "metadata": {},
     "output_type": "execute_result"
    }
   ],
   "source": [
    "full_data_df['all_text']"
   ]
  },
  {
   "cell_type": "code",
   "execution_count": 32,
   "id": "1888f304-ce75-423e-acec-394b297be131",
   "metadata": {},
   "outputs": [
    {
     "data": {
      "text/plain": [
       "'Skip to main content'"
      ]
     },
     "execution_count": 32,
     "metadata": {},
     "output_type": "execute_result"
    }
   ],
   "source": [
    "idx = 0\n",
    "t= full_data_df['all_text'].str.strip().iloc[idx]\n",
    "t"
   ]
  },
  {
   "cell_type": "code",
   "execution_count": 36,
   "id": "29f50385-4819-45cd-84bc-fead67b3acf0",
   "metadata": {},
   "outputs": [],
   "source": [
    "PROMPT = \"\"\"\n",
    "    You are a helpful journalist's assistant. Here is a headline I scraped from a news website:\n",
    "\n",
    "    ```{headline}```\n",
    "\n",
    "    Please clean the text and COPY the exact text of just the article information. Ignoring all timestamps, HTML formatting and boilerplate text not related to the article. \n",
    "    Don't say anything else. If there is no headline information, return \"None\".\n",
    "\"\"\""
   ]
  },
  {
   "cell_type": "code",
   "execution_count": 34,
   "id": "4e163b79-59a9-4dda-b33e-d7b2fdeccb99",
   "metadata": {},
   "outputs": [],
   "source": [
    "p = PROMPT.format(headline=t)"
   ]
  },
  {
   "cell_type": "code",
   "execution_count": 35,
   "id": "ea5f6c20-76e9-47fd-85d1-d2434ddb3f92",
   "metadata": {},
   "outputs": [
    {
     "data": {
      "text/plain": [
       "'None'"
      ]
     },
     "execution_count": 35,
     "metadata": {},
     "output_type": "execute_result"
    }
   ],
   "source": [
    "query_together(p)"
   ]
  },
  {
   "cell_type": "code",
   "execution_count": 50,
   "id": "2c90b157-2ed5-42a1-8820-ede7d334053d",
   "metadata": {},
   "outputs": [],
   "source": [
    "(full_data_df['all_text']\n",
    " .drop_duplicates().reset_index(drop=True).reset_index()\n",
    " .assign(prompt=lambda df: df['all_text'].apply(lambda x: PROMPT.format(headline=x)))\n",
    " .drop(columns='all_text')\n",
    " .to_csv('../scripts/clean_training_data/prompts_to_clean.csv.gz', compression='gzip')\n",
    ")"
   ]
  },
  {
   "cell_type": "code",
   "execution_count": null,
   "id": "3f1b230d-9ebc-4088-b40f-41335e0997b9",
   "metadata": {},
   "outputs": [],
   "source": []
  },
  {
   "cell_type": "code",
   "execution_count": null,
   "id": "37e6ac38-1075-401a-98dd-04a1f1fda855",
   "metadata": {},
   "outputs": [],
   "source": []
  },
  {
   "cell_type": "code",
   "execution_count": null,
   "id": "c4ae1fa9-1ada-46bf-b311-9302757588e6",
   "metadata": {},
   "outputs": [],
   "source": []
  },
  {
   "cell_type": "code",
   "execution_count": null,
   "id": "d9e68dc0-e4fa-46ad-8b36-96242ee44e36",
   "metadata": {},
   "outputs": [],
   "source": []
  },
  {
   "cell_type": "code",
   "execution_count": null,
   "id": "4be4a492-245b-40db-be2c-20f02babc30a",
   "metadata": {},
   "outputs": [],
   "source": []
  }
 ],
 "metadata": {
  "kernelspec": {
   "display_name": "Python 3 (ipykernel)",
   "language": "python",
   "name": "python3"
  },
  "language_info": {
   "codemirror_mode": {
    "name": "ipython",
    "version": 3
   },
   "file_extension": ".py",
   "mimetype": "text/x-python",
   "name": "python",
   "nbconvert_exporter": "python",
   "pygments_lexer": "ipython3",
   "version": "3.12.2"
  }
 },
 "nbformat": 4,
 "nbformat_minor": 5
}
